{
  "nbformat": 4,
  "nbformat_minor": 0,
  "metadata": {
    "kernelspec": {
      "display_name": "Python 3",
      "name": "python3"
    },
    "language_info": {
      "codemirror_mode": {
        "name": "ipython",
        "version": 3
      },
      "file_extension": ".py",
      "mimetype": "text/x-python",
      "name": "python",
      "nbconvert_exporter": "python",
      "pygments_lexer": "ipython3",
      "version": "3.8.0"
    },
    "colab": {
      "provenance": [],
      "gpuType": "T4",
      "include_colab_link": true
    },
    "accelerator": "GPU"
  },
  "cells": [
    {
      "cell_type": "markdown",
      "metadata": {
        "id": "view-in-github",
        "colab_type": "text"
      },
      "source": [
        "<a href=\"https://colab.research.google.com/github/koc90/part_3_homework_8/blob/main/Hw8_tensorflow_mnist_hw.ipynb\" target=\"_parent\"><img src=\"https://colab.research.google.com/assets/colab-badge.svg\" alt=\"Open In Colab\"/></a>"
      ]
    },
    {
      "cell_type": "markdown",
      "metadata": {
        "id": "b0Yf4NBJUSNM"
      },
      "source": [
        "# Tworzenie sieci neuronowej\n",
        "\n",
        "W tym zadaniu stworzymy w pełni połączoną sieć neuronową przy użyciu niskopoziomowych mechanizmów tensorflow.\n",
        "\n",
        "Architektura sieci neuronowej została przedstawiona na poniższym rysunku. Jak widać, ma ona jedną warstwę wejściową, dwie warstwy ukryte i warstwę wyjściową. W warstwach ukrytych wykorzystamy sigmoid jako funkcję aktywacji. Na warstwie wyjściowej użyjemy softmax.\n",
        "\n",
        "Część kodu do utworzenia sieci została już napisana, musisz wypełnić puste miejsca w określonych miejscach."
      ]
    },
    {
      "cell_type": "markdown",
      "metadata": {
        "id": "01rZWUu0USNQ"
      },
      "source": [
        "## Architektura sieci neuronowej\n",
        "\n",
        "<img src=\"http://cs231n.github.io/assets/nn1/neural_net2.jpeg\" alt=\"nn\" style=\"width: 400px;\"/>\n"
      ]
    },
    {
      "cell_type": "markdown",
      "metadata": {
        "id": "LLvIZ705Qw_V"
      },
      "source": [
        "## Informacje o zestawie danych MNIST\n",
        "\n",
        "Będziemy trenować tę sieć neuronową na zbiorze danych MNIST. Ten zbiór danych to duża liczba odręcznych obrazów cyfr składających się z 28 razy 28 pikseli. Każdy piksel przyjmuje wartość od 0 do 255.\n",
        "\n",
        "Tak jak poprzednio, zbiór danych zostanie podzielony na próbki treningowe i testowe. Znormalizujemy wszystkie obrazy tak, aby wartości pikseli wynosiły od 0 do 1, dzieląc jasność każdego piksela przez 255.\n",
        "\n",
        "Ponadto architektura sieci neuronowej oczekuje wektora jako danych wejściowych. W naszym przypadku jednak każdy przykładowy obiekt jest macierzą. Co należy zrobić? W tym zadaniu \"rozciągniemy\" macierz 28 razy 28$, uzyskując w ten sposób wektor składający się z 784 elementów.\n",
        "\n",
        "![MNIST Dataset](https://www.researchgate.net/profile/Steven-Young-5/publication/306056875/figure/fig1/AS:393921575309346@1470929630835/Example-images-from-the-MNIST-dataset.png)\n",
        "\n",
        "Więcej informacji na temat zbioru danych można znaleźć na stronie [tutaj](http://yann.lecun.com/exdb/mnist/)."
      ]
    },
    {
      "cell_type": "code",
      "metadata": {
        "id": "il_0_5OyUSNR"
      },
      "source": [
        "import tensorflow as tf\n",
        "import numpy as np\n",
        "import matplotlib.pyplot as plt"
      ],
      "execution_count": null,
      "outputs": []
    },
    {
      "cell_type": "code",
      "metadata": {
        "id": "cd-1_abTUSNS"
      },
      "source": [
        "num_classes = 10 # całkowita liczba klas, w naszym przypadku są to liczby od 0 do 9\n",
        "num_features = 784 # liczba atrybutów wektora wejściowego 28 * 28 = 784\n",
        "\n",
        "learning_rate = 0.001 # szybkość uczenia się sieci neuronowej\n",
        "training_steps = 2000 # maksymalna liczba epok\n",
        "batch_size = 256 # przeliczymy wagi sieci nie na całej próbce, ale na jej losowym podzbiorze elementów bat\n",
        "display_step = 100 # co 100 iteracji pokażemy aktualną wartość funkcji straty i dokładności\n",
        "\n",
        "n_hidden_1 = 128 # liczba neuronów warstwy 1\n",
        "n_hidden_2 = 256 # liczba neuronów warstwy 2"
      ],
      "execution_count": null,
      "outputs": []
    },
    {
      "cell_type": "code",
      "metadata": {
        "id": "pGTXiRyTUSNT"
      },
      "source": [
        "from tensorflow.keras.datasets import mnist\n",
        "\n",
        "# Ładowanie zestawu danych\n",
        "(x_train, y_train), (x_test, y_test) = mnist.load_data()\n",
        "\n",
        "# Konwersja pikseli całkowitych na typ float32\n",
        "x_train, x_test = np.array(x_train, np.float32), np.array(x_test, np.float32)\n",
        "\n",
        "# Konwertujemy macierze 28x28 pikseli na wektor składający się z 784 elementów\n",
        "x_train, x_test = x_train.reshape([-1, num_features]), x_test.reshape([-1, num_features])\n",
        "\n",
        "# Normalizacja wartości pikseli\n",
        "x_train, x_test = x_train / 255., x_test / 255.\n",
        "\n",
        "# Zmiksujmy dane treningowe\n",
        "train_data = tf.data.Dataset.from_tensor_slices((x_train, y_train))\n",
        "train_data = train_data.repeat().shuffle(5000).batch(batch_size).prefetch(1)"
      ],
      "execution_count": null,
      "outputs": []
    },
    {
      "cell_type": "code",
      "metadata": {
        "id": "FkRmCQjnUSNV"
      },
      "source": [
        "# Stwórzmy sieć neuronową\n",
        "\n",
        "class DenseLayer(tf.Module):\n",
        "    def __init__(self, in_features, out_features, name=None):\n",
        "      super().__init__(name=name)\n",
        "      self.w = tf.Variable(\n",
        "        tf.random.normal([in_features, out_features]), name=\"w\"\n",
        "      )\n",
        "      self.b = tf.Variable(tf.zeros([out_features]), name=\"b\")\n",
        "\n",
        "\n",
        "    def __call__(self, x):\n",
        "      y = tf.matmul(x, self.w) + self.b\n",
        "      return y\n",
        "\n",
        "\n",
        "class NN(tf.Module):\n",
        "  def __init__(self, name=None):\n",
        "    super().__init__(name=name)\n",
        "\n",
        "    in_out = [num_features, n_hidden_1, n_hidden_2, num_classes]\n",
        "    layers = []\n",
        "\n",
        "    # Tworzenie warstw\n",
        "    for i in range(len(in_out)-1):\n",
        "      layers.append(DenseLayer(in_out[i], in_out[i+1], \"layer\"))\n",
        "\n",
        "    self.layers = layers\n",
        "\n",
        "  def __call__(self, x):\n",
        "\n",
        "    i = 0\n",
        "    n = len(self.layers) # 3\n",
        "\n",
        "    for layer in self.layers:\n",
        "      i += 1\n",
        "      x = layer(x)\n",
        "\n",
        "      if i < n:\n",
        "        x = tf.nn.relu(x) # 1, 2\n",
        "      else:\n",
        "        x = tf.nn.softmax(x) # 3\n",
        "\n",
        "\n",
        "    return x"
      ],
      "execution_count": null,
      "outputs": []
    },
    {
      "cell_type": "code",
      "metadata": {
        "id": "LIf3o7VAUSNV"
      },
      "source": [
        "# W tym przypadku wygodnie jest przyjąć entropię krzyżową jako funkcję błędu\n",
        "def cross_entropy(y_pred, y_true):\n",
        "    # Encode label to a one hot vector.\n",
        "    y_true = tf.one_hot(y_true, depth=num_classes)\n",
        "\n",
        "    # Clip prediction values to avoid log(0) error.\n",
        "    y_pred = tf.clip_by_value(y_pred, 1e-9, 1.)\n",
        "\n",
        "    # Obliczanie entropii krzyżowej\n",
        "    return tf.reduce_mean(-tf.reduce_sum(y_true * tf.math.log(y_pred)))\n",
        "\n",
        "# Jako miernik jakości stosujemy dokładność\n",
        "def accuracy(y_pred, y_true):\n",
        "\n",
        "  y_true = tf.one_hot(y_true, depth=num_classes)\n",
        "\n",
        "  m = tf.keras.metrics.Accuracy()\n",
        "  m.update_state(y_true, y_pred)\n",
        "\n",
        "  return m.result().numpy()\n"
      ],
      "execution_count": null,
      "outputs": []
    },
    {
      "cell_type": "code",
      "metadata": {
        "id": "MQeT1yatUSNW"
      },
      "source": [
        "# Stwórzmy przykładową sieć neuronową\n",
        "neural_net = NN(name=\"mnist\")\n",
        "\n",
        "# Funkcja treningu sieci neuronowej\n",
        "def train(nn, input_x, output_y):\n",
        "  # Do dopasowania wag sieci wykorzystamy stochastyczne zejście gradientowe\n",
        "  optimizer = tf.optimizers.SGD(learning_rate)\n",
        "\n",
        "  # Aktywacja automatycznego różnicowania\n",
        "\n",
        "  with tf.GradientTape() as g:\n",
        "    pred = nn(input_x)\n",
        "    loss = cross_entropy(pred, output_y)\n",
        "    # Utwórz zoptymalizowaną listę parametrów\n",
        "    variables = nn.variables\n",
        "    # Oblicz na ich podstawie wartość gradientu\n",
        "    gradient = g.gradient(loss, variables)\n",
        "    # Zmodyfikuj parametry\n",
        "    optimizer.apply_gradients(zip(gradient, variables))\n",
        "\n",
        "\n",
        "\n",
        "\n",
        "\n"
      ],
      "execution_count": null,
      "outputs": []
    },
    {
      "cell_type": "code",
      "metadata": {
        "id": "fnyns9lBfpQZ"
      },
      "source": [
        "# Szkolenie sieciowe\n",
        "\n",
        "loss_history = []  # każdy krok display_step zapisuje bieżący błąd sieci neuronowej na tej liście\n",
        "accuracy_history = [] # każdy krok display_step zapisuje aktualną dokładność sieci neuronowej na tej liście\n",
        "displays_steps = []\n"
      ],
      "execution_count": null,
      "outputs": []
    },
    {
      "cell_type": "code",
      "source": [
        "\n",
        "# W tej pętli będziemy trenować sieć neuronową\n",
        "# Z treningowego zbioru danych train_data, wyodrębnij losowy podzbiór, na którym\n",
        "# będzie trenowana. Użyj metody take dostępnej dla szkoleniowego zbioru danych.\n",
        "for step, (batch_x, batch_y) in zip(range(training_steps), train_data):\n",
        "    # Aktualizacja wag sieci neuronowej\n",
        "\n",
        "    train(neural_net, batch_x, batch_y)\n",
        "\n",
        "    if step % display_step == 0:\n",
        "\n",
        "        pred = neural_net(batch_x)\n",
        "\n",
        "        loss_history.append(cross_entropy(pred, batch_y))\n",
        "        accuracy_history.append(accuracy(pred, batch_y))\n",
        "        displays_steps.append(step)\n"
      ],
      "metadata": {
        "id": "w7R96qUPRDAb"
      },
      "execution_count": null,
      "outputs": []
    },
    {
      "cell_type": "code",
      "metadata": {
        "id": "_yCBfG6MbQB2",
        "colab": {
          "base_uri": "https://localhost:8080/",
          "height": 447
        },
        "outputId": "8934d058-0414-4585-ff4f-938528d6670f"
      },
      "source": [
        "# Wykreśl zmianę dokładności i strat jako funkcję skoku\n",
        "# Jeśli zostanie to zrobione poprawnie, dokładność powinna wzrosnąć, a straty powinny się zmniejszyć.\n",
        "\n",
        "plt.subplot(1, 2, 1)\n",
        "plt.plot(displays_steps, loss_history, color='g')\n",
        "plt.grid(True)\n",
        "plt.legend([\"loss history\"])\n",
        "plt.subplot(1, 2, 2)\n",
        "plt.plot(displays_steps, accuracy_history, color='b')\n",
        "plt.grid(True)\n",
        "plt.legend([\"accuracy history\"])"
      ],
      "execution_count": null,
      "outputs": [
        {
          "output_type": "execute_result",
          "data": {
            "text/plain": [
              "<matplotlib.legend.Legend at 0x7cd6a774b310>"
            ]
          },
          "metadata": {},
          "execution_count": 101
        },
        {
          "output_type": "display_data",
          "data": {
            "text/plain": [
              "<Figure size 640x480 with 2 Axes>"
            ],
            "image/png": "[encoded data removed]"
          },
          "metadata": {}
        }
      ]
    },
    {
      "cell_type": "code",
      "metadata": {
        "id": "LE3g4gDyUSNY",
        "colab": {
          "base_uri": "https://localhost:8080/"
        },
        "outputId": "11a9059c-8191-4bdb-d8c3-6e3619ec7ef8"
      },
      "source": [
        "# Oblicz dokładność wytrenowanej sieci neuronowej\n",
        "\n",
        "acc = accuracy(neural_net(x_test), y_test)\n",
        "print(acc)\n"
      ],
      "execution_count": null,
      "outputs": [
        {
          "output_type": "stream",
          "name": "stdout",
          "text": [
            "0.8255\n"
          ]
        }
      ]
    },
    {
      "cell_type": "code",
      "metadata": {
        "id": "_EEHAubOUSNY",
        "colab": {
          "base_uri": "https://localhost:8080/",
          "height": 465
        },
        "outputId": "81f1ed26-57a5-48e8-c70a-ad9e233b78c4"
      },
      "source": [
        "# Przetestuj wytrenowaną sieć neuronową na 10 obrazach. Z próbki testowej wybierz 5\n",
        "# losowych obrazów i wprowadź je do sieci neuronowej.\n",
        "# Wyprowadź obraz i zapisz obok niego odpowiedź sieci neuronowej.\n",
        "# Czy sieć neuronowa się myli, a jeśli tak, to jak często?\n",
        "\n",
        "\n",
        "sample_num = 64\n",
        "x1 = x_test[sample_num].reshape(28, 28)\n",
        "print(y_test[sample_num])\n",
        "plt.imshow(x1)\n"
      ],
      "execution_count": null,
      "outputs": [
        {
          "output_type": "stream",
          "name": "stdout",
          "text": [
            "7\n"
          ]
        },
        {
          "output_type": "execute_result",
          "data": {
            "text/plain": [
              "<matplotlib.image.AxesImage at 0x7cd6a76edd20>"
            ]
          },
          "metadata": {},
          "execution_count": 103
        },
        {
          "output_type": "display_data",
          "data": {
            "text/plain": [
              "<Figure size 640x480 with 1 Axes>"
            ],
            "image/png": "[encoded data removed]"
          },
          "metadata": {}
        }
      ]
    },
    {
      "cell_type": "code",
      "source": [
        "sample_num = 36\n",
        "x1 = x_test[sample_num].reshape(28, 28)\n",
        "print(y_test[sample_num])\n",
        "plt.imshow(x1)"
      ],
      "metadata": {
        "colab": {
          "base_uri": "https://localhost:8080/",
          "height": 465
        },
        "id": "Y_xu3cyKh32R",
        "outputId": "396a8fc2-f84e-416d-a5f1-11a553bd950e"
      },
      "execution_count": null,
      "outputs": [
        {
          "output_type": "stream",
          "name": "stdout",
          "text": [
            "7\n"
          ]
        },
        {
          "output_type": "execute_result",
          "data": {
            "text/plain": [
              "<matplotlib.image.AxesImage at 0x7cd6a3d301f0>"
            ]
          },
          "metadata": {},
          "execution_count": 104
        },
        {
          "output_type": "display_data",
          "data": {
            "text/plain": [
              "<Figure size 640x480 with 1 Axes>"
            ],
            "image/png": "[encoded data removed]"
          },
          "metadata": {}
        }
      ]
    },
    {
      "cell_type": "code",
      "source": [
        "sample_num = 312\n",
        "x1 = x_test[sample_num].reshape(28, 28)\n",
        "print(y_test[sample_num])\n",
        "plt.imshow(x1)"
      ],
      "metadata": {
        "colab": {
          "base_uri": "https://localhost:8080/",
          "height": 465
        },
        "id": "M27TVrrph6x4",
        "outputId": "064f95b2-df28-4c44-f477-2d675cdb42b6"
      },
      "execution_count": null,
      "outputs": [
        {
          "output_type": "stream",
          "name": "stdout",
          "text": [
            "0\n"
          ]
        },
        {
          "output_type": "execute_result",
          "data": {
            "text/plain": [
              "<matplotlib.image.AxesImage at 0x7cd6a3d73370>"
            ]
          },
          "metadata": {},
          "execution_count": 105
        },
        {
          "output_type": "display_data",
          "data": {
            "text/plain": [
              "<Figure size 640x480 with 1 Axes>"
            ],
            "image/png": "[encoded data removed]"
          },
          "metadata": {}
        }
      ]
    },
    {
      "cell_type": "code",
      "source": [
        "sample_num = 61\n",
        "x1 = x_test[sample_num].reshape(28, 28)\n",
        "print(y_test[sample_num])\n",
        "plt.imshow(x1)"
      ],
      "metadata": {
        "colab": {
          "base_uri": "https://localhost:8080/",
          "height": 465
        },
        "id": "JjGfWTzph_PL",
        "outputId": "8595f863-1311-4099-a1ce-c8d3cdd66ea6"
      },
      "execution_count": null,
      "outputs": [
        {
          "output_type": "stream",
          "name": "stdout",
          "text": [
            "8\n"
          ]
        },
        {
          "output_type": "execute_result",
          "data": {
            "text/plain": [
              "<matplotlib.image.AxesImage at 0x7cd6a3be5a50>"
            ]
          },
          "metadata": {},
          "execution_count": 106
        },
        {
          "output_type": "display_data",
          "data": {
            "text/plain": [
              "<Figure size 640x480 with 1 Axes>"
            ],
            "image/png": "[encoded data removed]"
          },
          "metadata": {}
        }
      ]
    },
    {
      "cell_type": "code",
      "source": [
        "sample_num = 264\n",
        "x1 = x_test[sample_num].reshape(28, 28)\n",
        "print(y_test[sample_num])\n",
        "plt.imshow(x1)"
      ],
      "metadata": {
        "colab": {
          "base_uri": "https://localhost:8080/",
          "height": 465
        },
        "id": "PwzwTg-wiDCk",
        "outputId": "c322a13e-b425-45aa-f478-e5d2f6c9f82a"
      },
      "execution_count": null,
      "outputs": [
        {
          "output_type": "stream",
          "name": "stdout",
          "text": [
            "9\n"
          ]
        },
        {
          "output_type": "execute_result",
          "data": {
            "text/plain": [
              "<matplotlib.image.AxesImage at 0x7cd6a3c5c670>"
            ]
          },
          "metadata": {},
          "execution_count": 107
        },
        {
          "output_type": "display_data",
          "data": {
            "text/plain": [
              "<Figure size 640x480 with 1 Axes>"
            ],
            "image/png": "[encoded data removed]"
          },
          "metadata": {}
        }
      ]
    },
    {
      "cell_type": "code",
      "source": [
        "sample_num = 421\n",
        "x1 = x_test[sample_num].reshape(28, 28)\n",
        "print(y_test[sample_num])\n",
        "plt.imshow(x1)"
      ],
      "metadata": {
        "colab": {
          "base_uri": "https://localhost:8080/",
          "height": 465
        },
        "id": "qRmXNXGuiM_6",
        "outputId": "f4612d11-3c69-45c5-c5dc-5174e56c9b4a"
      },
      "execution_count": null,
      "outputs": [
        {
          "output_type": "stream",
          "name": "stdout",
          "text": [
            "2\n"
          ]
        },
        {
          "output_type": "execute_result",
          "data": {
            "text/plain": [
              "<matplotlib.image.AxesImage at 0x7cd6a3abb190>"
            ]
          },
          "metadata": {},
          "execution_count": 108
        },
        {
          "output_type": "display_data",
          "data": {
            "text/plain": [
              "<Figure size 640x480 with 1 Axes>"
            ],
            "image/png": "[encoded data removed]"
          },
          "metadata": {}
        }
      ]
    },
    {
      "cell_type": "code",
      "source": [
        "sample_num = 398\n",
        "x1 = x_test[sample_num].reshape(28, 28)\n",
        "print(y_test[sample_num])\n",
        "plt.imshow(x1)"
      ],
      "metadata": {
        "colab": {
          "base_uri": "https://localhost:8080/",
          "height": 465
        },
        "id": "xs-1mSiKiRXp",
        "outputId": "3367627a-4d71-49fa-e23f-358f58dd2122"
      },
      "execution_count": null,
      "outputs": [
        {
          "output_type": "stream",
          "name": "stdout",
          "text": [
            "4\n"
          ]
        },
        {
          "output_type": "execute_result",
          "data": {
            "text/plain": [
              "<matplotlib.image.AxesImage at 0x7cd6a3b26710>"
            ]
          },
          "metadata": {},
          "execution_count": 109
        },
        {
          "output_type": "display_data",
          "data": {
            "text/plain": [
              "<Figure size 640x480 with 1 Axes>"
            ],
            "image/png": "[encoded data removed]"
          },
          "metadata": {}
        }
      ]
    },
    {
      "cell_type": "code",
      "source": [
        "sample_num = 538\n",
        "x1 = x_test[sample_num].reshape(28, 28)\n",
        "print(y_test[sample_num])\n",
        "plt.imshow(x1)"
      ],
      "metadata": {
        "colab": {
          "base_uri": "https://localhost:8080/",
          "height": 465
        },
        "id": "jEN4GUlDiUEO",
        "outputId": "3d5b16bf-7fb5-4b68-e46d-e2f81010d759"
      },
      "execution_count": null,
      "outputs": [
        {
          "output_type": "stream",
          "name": "stdout",
          "text": [
            "8\n"
          ]
        },
        {
          "output_type": "execute_result",
          "data": {
            "text/plain": [
              "<matplotlib.image.AxesImage at 0x7cd6a39a9240>"
            ]
          },
          "metadata": {},
          "execution_count": 110
        },
        {
          "output_type": "display_data",
          "data": {
            "text/plain": [
              "<Figure size 640x480 with 1 Axes>"
            ],
            "image/png": "[encoded data removed]"
          },
          "metadata": {}
        }
      ]
    },
    {
      "cell_type": "code",
      "source": [],
      "metadata": {
        "id": "Sje1TFXAk4fc"
      },
      "execution_count": null,
      "outputs": []
    },
    {
      "cell_type": "code",
      "source": [
        "sample_num = 512\n",
        "x1 = x_test[sample_num].reshape(28, 28)\n",
        "print(y_test[sample_num])\n",
        "plt.imshow(x1)"
      ],
      "metadata": {
        "colab": {
          "base_uri": "https://localhost:8080/",
          "height": 465
        },
        "outputId": "d8f649af-d3b1-41dd-e20e-4b3de105f855",
        "id": "wsB6MAFHk410"
      },
      "execution_count": null,
      "outputs": [
        {
          "output_type": "stream",
          "name": "stdout",
          "text": [
            "2\n"
          ]
        },
        {
          "output_type": "execute_result",
          "data": {
            "text/plain": [
              "<matplotlib.image.AxesImage at 0x7cd6a3a044f0>"
            ]
          },
          "metadata": {},
          "execution_count": 111
        },
        {
          "output_type": "display_data",
          "data": {
            "text/plain": [
              "<Figure size 640x480 with 1 Axes>"
            ],
            "image/png": "[encoded data removed]"
          },
          "metadata": {}
        }
      ]
    },
    {
      "cell_type": "code",
      "source": [],
      "metadata": {
        "id": "s-_wNBQjk8OV"
      },
      "execution_count": null,
      "outputs": []
    },
    {
      "cell_type": "code",
      "source": [
        "sample_num = 111\n",
        "x1 = x_test[sample_num].reshape(28, 28)\n",
        "print(y_test[sample_num])\n",
        "plt.imshow(x1)"
      ],
      "metadata": {
        "colab": {
          "base_uri": "https://localhost:8080/",
          "height": 465
        },
        "outputId": "ca817fe5-9d91-4a3c-b7fc-6f8272ae2f98",
        "id": "CjJ8auFKk8iG"
      },
      "execution_count": null,
      "outputs": [
        {
          "output_type": "stream",
          "name": "stdout",
          "text": [
            "7\n"
          ]
        },
        {
          "output_type": "execute_result",
          "data": {
            "text/plain": [
              "<matplotlib.image.AxesImage at 0x7cd6a3a76080>"
            ]
          },
          "metadata": {},
          "execution_count": 112
        },
        {
          "output_type": "display_data",
          "data": {
            "text/plain": [
              "<Figure size 640x480 with 1 Axes>"
            ],
            "image/png": "[encoded data removed]"
          },
          "metadata": {}
        }
      ]
    }
  ]
}